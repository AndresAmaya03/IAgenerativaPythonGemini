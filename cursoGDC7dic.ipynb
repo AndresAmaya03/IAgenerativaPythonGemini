{
  "nbformat": 4,
  "nbformat_minor": 0,
  "metadata": {
    "colab": {
      "provenance": []
    },
    "kernelspec": {
      "name": "python3",
      "display_name": "Python 3"
    },
    "language_info": {
      "name": "python"
    }
  },
  "cells": [
    {
      "cell_type": "code",
      "execution_count": null,
      "metadata": {
        "colab": {
          "base_uri": "https://localhost:8080/",
          "height": 442
        },
        "id": "wuOvkfTb62co",
        "outputId": "04ebd39e-4673-43ad-aee5-2c3257d2b584"
      },
      "outputs": [
        {
          "output_type": "stream",
          "name": "stdout",
          "text": [
            "Tus manos, suaves y curtidas,\n",
            "tejieron sueños, esperanzas, y vidas.\n",
            "Un faro inmenso en la noche más oscura,\n",
            "un amor constante, una guía segura.\n",
            "\n",
            "Tu voz, melodía que calma y consuela,\n",
            "un bálsamo tierno que siempre revela\n",
            "la fuerza infinita que en ti reside,\n",
            "un amor profundo, que siempre perdura y que guía.\n",
            "\n",
            "Recuerdo risas, abrazos, y cuentos,\n",
            "en tardes de sol y en noches de vientos.\n",
            "Tu mirada atenta, llena de comprensión,\n",
            "un refugio cálido, una dulce pasión.\n",
            "\n",
            "El tiempo transcurre, los años se van,\n",
            "pero tu cariño, jamás se marchará.\n",
            "En mi corazón, un lugar especial,\n",
            "para el amor de una madre maternal.\n",
            "\n",
            "Gracias, madre, por todo lo que eres,\n",
            "por tus sacrificios, por tus alegres deberes.\n",
            "Eres mi estrella, mi guía, mi luz,\n",
            "un amor eterno, puro y sin cruz.\n",
            "\n"
          ]
        }
      ],
      "source": [
        "\"\"\"\n",
        "Install an additional SDK for JSON schema support Google AI Python SDK\n",
        "\n",
        "$ pip install google.ai.generativelanguage\n",
        "\"\"\"\n",
        "\n",
        "import os\n",
        "import google.generativeai as genai\n",
        "from google.ai.generativelanguage_v1beta.types import content\n",
        "\n",
        "genai.configure(api_key=\"[API_KEY]\")\n",
        "\n",
        "# Create the model\n",
        "generation_config = {\n",
        "  \"temperature\": 1,\n",
        "  \"top_p\": 0.95,\n",
        "  \"top_k\": 40,\n",
        "  \"max_output_tokens\": 8192,\n",
        "  \"response_mime_type\": \"text/plain\",\n",
        "}\n",
        "\n",
        "model = genai.GenerativeModel(\n",
        "  model_name=\"gemini-1.5-flash\",\n",
        "  generation_config=generation_config,\n",
        ")\n",
        "\n",
        "resp = model.generate_content(\"crear un poema para mi madre\")\n",
        "\n",
        "print(resp.text)"
      ]
    },
    {
      "cell_type": "code",
      "source": [
        "#INICIO MULTIMODAL\n",
        "file = genai.upload_file('ajolote.jpeg', mime_type='image/jpeg')\n",
        "print(f\"Uploaded file '{file.display_name}' as: {file.uri}\")\n",
        "print(file)"
      ],
      "metadata": {
        "colab": {
          "base_uri": "https://localhost:8080/",
          "height": 221
        },
        "id": "k8sOj8k2PblA",
        "outputId": "da848344-2257-436c-ded5-63b1eb7930e0"
      },
      "execution_count": null,
      "outputs": [
        {
          "output_type": "stream",
          "name": "stdout",
          "text": [
            "Uploaded file 'ajolote.jpeg' as: https://generativelanguage.googleapis.com/v1beta/files/kp4usptxmom2\n",
            "genai.File({\n",
            "    'name': 'files/kp4usptxmom2',\n",
            "    'display_name': 'ajolote.jpeg',\n",
            "    'mime_type': 'image/jpeg',\n",
            "    'sha256_hash': 'ZWQ4ODE1MzBjOGVhMjY0OGMzNzkwNjQ3NzhmMmQyNWYxMmFkNTg5ZjE3YjQ3YjA1NjVmNWEwYzUzMGExNzMxNA==',\n",
            "    'size_bytes': '9107',\n",
            "    'state': 'ACTIVE',\n",
            "    'uri': 'https://generativelanguage.googleapis.com/v1beta/files/kp4usptxmom2',\n",
            "    'create_time': '2024-12-07T18:03:30.939975Z',\n",
            "    'expiration_time': '2024-12-09T18:03:30.876003174Z',\n",
            "    'update_time': '2024-12-07T18:03:30.939975Z'})\n"
          ]
        }
      ]
    },
    {
      "cell_type": "code",
      "source": [
        "prompt = [file, 'cree un blog post para la revista ntature con este animal:']"
      ],
      "metadata": {
        "id": "VtkNz93TSo0a"
      },
      "execution_count": null,
      "outputs": []
    },
    {
      "cell_type": "code",
      "source": [
        "resp = model.generate_content(prompt)\n",
        "resp.text"
      ],
      "metadata": {
        "colab": {
          "base_uri": "https://localhost:8080/",
          "height": 171
        },
        "id": "0oRfJLGDSvKV",
        "outputId": "03c4d3e1-777f-4827-d827-7b3638fcf1fd"
      },
      "execution_count": null,
      "outputs": [
        {
          "output_type": "execute_result",
          "data": {
            "text/plain": [
              "'Aquí tienes una entrada de blog para la revista Nature sobre el ajolote, utilizando la imagen proporcionada:\\n\\n**El Ajolote: Un Anfibio Único con un Futuro Incierto**\\n\\n[Inserta la imagen del ajolote aquí]\\n\\nEl ajolote ( *Ambystoma mexicanum* ) es una salamandra acuática única que fascina a científicos y aficionados por igual.  Su notable capacidad de regeneración, su neotenia (retención de características larvarias en la edad adulta) y su belleza singular lo han convertido en un modelo valioso para la investigación y un símbolo de la conservación.  Sin embargo, el futuro de este icónico anfibio está en grave peligro.\\n\\n**Un Misterio de Regeneración**\\n\\nLa capacidad del ajolote para regenerar extremidades, tejidos y hasta partes del cerebro, es sin igual en el reino animal.  A diferencia de otros vertebrados, el ajolote puede regenerar completamente estructuras complejas sin formación de cicatrices, lo que lo convierte en un tesoro para la investigación biomédica.  El estudio de sus mecanismos de regeneración podría proporcionar información vital para el desarrollo de nuevas terapias para tratar lesiones y enfermedades humanas.  Los científicos siguen desentrañando los complejos procesos moleculares y celulares que subyacen a esta extraordinaria capacidad.\\n\\n**Neotenia: Una Estrategia de Supervivencia**\\n\\nLa neotenia del ajolote, la retención de características larvarias como las branquias externas incluso en su estado adulto, es otra característica fascinante.  Esta adaptación le permite prosperar en ambientes acuáticos, donde la competencia por los recursos es menor.  La neotenia también ofrece una ventana a la evolución y desarrollo de los anfibios.\\n\\n**Un Símbolo en Peligro**\\n\\nA pesar de su importancia científica y su encanto, el ajolote está catalogado como una especie en peligro crítico de extinción.  Su hábitat natural, los lagos de Xochimilco cerca de Ciudad de México, se ha visto gravemente degradado por la contaminación, la introducción de especies invasoras y la urbanización.  Las poblaciones silvestres se han reducido drásticamente, y el futuro del ajolote depende de esfuerzos concertados de conservación.\\n\\n**El Desafío de la Conservación**\\n\\nLos programas de cría en cautividad han tenido un cierto éxito en la preservación de la especie, pero la reintroducción de los ajolotes en su hábitat natural es un desafío complejo.  Es crucial abordar los problemas de contaminación y gestionar los recursos hídricos para asegurar la supervivencia a largo plazo de esta especie icónica.  Se necesitan más investigaciones para comprender completamente las amenazas a su supervivencia y desarrollar estrategias efectivas de conservación.\\n\\n**Un Llamado a la Acción**\\n\\nEl ajolote no es solo un animal fascinante, sino también un símbolo del delicado equilibrio de los ecosistemas y la urgente necesidad de la conservación de la biodiversidad.  Su futuro está en nuestras manos.  Apoyando la investigación, promoviendo la conservación de su hábitat y concientizando al público sobre su situación, podemos ayudar a asegurar la supervivencia de este extraordinario anfibio para las generaciones futuras.  Con acciones firmes y colaboración global, podemos evitar que este misterio de la naturaleza desaparezca para siempre.\\n'"
            ],
            "application/vnd.google.colaboratory.intrinsic+json": {
              "type": "string"
            }
          },
          "metadata": {},
          "execution_count": 11
        }
      ]
    },
    {
      "cell_type": "code",
      "source": [
        "prompt = [file, 'cre una cancion sobre este animal:']\n",
        "resp = model.generate_content(prompt)\n",
        "resp.text"
      ],
      "metadata": {
        "colab": {
          "base_uri": "https://localhost:8080/",
          "height": 171
        },
        "id": "fZwY4uMES1vK",
        "outputId": "865fe1cf-06b4-43b1-d2d0-0c3a31118ca5"
      },
      "execution_count": null,
      "outputs": [
        {
          "output_type": "execute_result",
          "data": {
            "text/plain": [
              "'Claro, aquí hay una canción sobre el ajolote:\\n\\n(Verso 1)\\nEn las profundidades de los lagos mexicanos,\\nVive una criatura, peculiar y hermosa.\\nCon branquias plumosas de un rojo brillante,\\nEl ajolote, un tesoro mexicano.\\n\\n(Coro)\\nAjolote, ajolote, con su sonrisa amable,\\nEn el agua se desliza, con gracia incomparable.\\nUn anfibio mágico, que enamora a cualquiera,\\nEl ajolote, un ser digno de admirar.\\n\\n(Verso 2)\\nSu piel de color rosa pálido, tan suave,\\nParece un peluche, digno de un suave abrazo.\\nPero su belleza esconde una gran virtud,\\nLa regeneración, una habilidad inigualable.\\n\\n(Coro)\\nAjolote, ajolote, con su sonrisa amable,\\nEn el agua se desliza, con gracia incomparable.\\nUn anfibio mágico, que enamora a cualquiera,\\nEl ajolote, un ser digno de admirar.\\n\\n(Puente)\\nEn peligro de extinción, necesita protección,\\nSu hogar, los lagos, necesita conservación.\\nCuidemos su futuro, con amor y razón,\\nPara que viva por siempre, esta criatura fascinante.\\n\\n(Coro)\\nAjolote, ajolote, con su sonrisa amable,\\nEn el agua se desliza, con gracia incomparable.\\nUn anfibio mágico, que enamora a cualquiera,\\nEl ajolote, un ser digno de admirar.\\n\\n(Outro)\\nAjolote, ajolote, un tesoro nacional,\\nQue debemos proteger, con firme decisión.\\nSu belleza y magia, debemos conservar,\\nPara que las futuras generaciones, lo puedan admirar.\\n\\n\\nPuedes ajustar la melodía a tu gusto,  se puede cantar con una melodía sencilla y alegre que refleje la ternura del animal.  ¡Espero que te guste!\\n'"
            ],
            "application/vnd.google.colaboratory.intrinsic+json": {
              "type": "string"
            }
          },
          "metadata": {},
          "execution_count": 12
        }
      ]
    },
    {
      "cell_type": "code",
      "source": [
        "prompt = [file, 'cre una cancion sobre este animal:']\n",
        "resp = model.generate_content(prompt)\n",
        "print(model.count_tokens(prompt))\n",
        "print(resp.text)"
      ],
      "metadata": {
        "colab": {
          "base_uri": "https://localhost:8080/",
          "height": 836
        },
        "id": "wKOvrTqcTLJ9",
        "outputId": "66c18a9c-1584-447c-d7e8-850fb586bd61"
      },
      "execution_count": null,
      "outputs": [
        {
          "output_type": "stream",
          "name": "stdout",
          "text": [
            "total_tokens: 266\n",
            "\n",
            "Claro, aquí tienes una canción sobre un ajolote:\n",
            "\n",
            "(Verso 1)\n",
            "En las profundidades del agua, donde la luz apenas llega,\n",
            "Vive una criatura única, con una sonrisa que te enamora.\n",
            "Es el ajolote, con su piel rosada y suave,\n",
            "Un anfibio peculiar, que te dejará maravillado.\n",
            "\n",
            "(Coro)\n",
            "Ajolote, ajolote, con sus branquias tan finas,\n",
            "Nada con gracia y belleza, entre las plantas acuáticas.\n",
            "Ajolote, ajolote, una joya de la naturaleza,\n",
            "Un tesoro que debemos proteger, con gran ternura y certeza.\n",
            "\n",
            "(Verso 2)\n",
            "Con sus patas pequeñas, se desplaza con delicadeza,\n",
            "Sus ojos oscuros y brillantes, reflejan una gran nobleza.\n",
            "Tiene la capacidad de regenerar, cualquier parte de su cuerpo,\n",
            "Una habilidad asombrosa, que es digna de mucho respeto.\n",
            "\n",
            "(Coro)\n",
            "Ajolote, ajolote, con sus branquias tan finas,\n",
            "Nada con gracia y belleza, entre las plantas acuáticas.\n",
            "Ajolote, ajolote, una joya de la naturaleza,\n",
            "Un tesoro que debemos proteger, con gran ternura y certeza.\n",
            "\n",
            "(Puente)\n",
            "En peligro de extinción se encuentra, su hábitat se destruye,\n",
            "Debemos actuar con rapidez, para que su futuro reluzca.\n",
            "Cuidemos su entorno, protejamos su existencia,\n",
            "Para que las futuras generaciones, puedan apreciar su esencia.\n",
            "\n",
            "(Coro)\n",
            "Ajolote, ajolote, con sus branquias tan finas,\n",
            "Nada con gracia y belleza, entre las plantas acuáticas.\n",
            "Ajolote, ajolote, una joya de la naturaleza,\n",
            "Un tesoro que debemos proteger, con gran ternura y certeza.\n",
            "\n",
            "(Outro)\n",
            "Ajolote, ajolote, una criatura encantadora,\n",
            "Que merece nuestro cariño, y nuestra atención amorosa.\n",
            "\n",
            "\n",
            "Espero que te guste.  Puedo adaptar la canción si quieres que sea más alegre, triste, o de un género musical en particular.  ¡Dime qué piensas!\n",
            "\n"
          ]
        }
      ]
    },
    {
      "cell_type": "code",
      "source": [
        "file = genai.upload_file('homeroYbart.mp4')\n",
        "print(f\"Uploaded file '{file.display_name}' as: {file.uri}\")\n",
        "print(file)\n"
      ],
      "metadata": {
        "colab": {
          "base_uri": "https://localhost:8080/",
          "height": 221
        },
        "id": "Y3aX0eZmT3E4",
        "outputId": "3786ce69-380f-4aff-834c-93bf077a8f13"
      },
      "execution_count": null,
      "outputs": [
        {
          "output_type": "stream",
          "name": "stdout",
          "text": [
            "Uploaded file 'homeroYbart.mp4' as: https://generativelanguage.googleapis.com/v1beta/files/gg9l4rnnbh7x\n",
            "genai.File({\n",
            "    'name': 'files/gg9l4rnnbh7x',\n",
            "    'display_name': 'homeroYbart.mp4',\n",
            "    'mime_type': 'video/mp4',\n",
            "    'sha256_hash': 'MGJmNWM5OTAxZjNhYjUxYjExNGYxMjk5ZGZmYjAxM2I5ZWMwZGUxZmVlNWViZTdlMGIyYjA4MjlkODM5NzIyNw==',\n",
            "    'size_bytes': '12684749',\n",
            "    'state': 'PROCESSING',\n",
            "    'uri': 'https://generativelanguage.googleapis.com/v1beta/files/gg9l4rnnbh7x',\n",
            "    'create_time': '2024-12-07T18:10:10.267297Z',\n",
            "    'expiration_time': '2024-12-09T18:10:10.197166222Z',\n",
            "    'update_time': '2024-12-07T18:10:10.267297Z'})\n"
          ]
        }
      ]
    },
    {
      "cell_type": "code",
      "source": [
        "prompt = [file, 'Crea la transcripcion del video']\n",
        "resp = model.generate_content(prompt)\n",
        "print(model.count_tokens(prompt))\n",
        "print(resp.text)"
      ],
      "metadata": {
        "colab": {
          "base_uri": "https://localhost:8080/",
          "height": 394
        },
        "id": "-o03o4juUIV8",
        "outputId": "0f3b379b-4036-4c02-d74f-28926597aa6f"
      },
      "execution_count": null,
      "outputs": [
        {
          "output_type": "stream",
          "name": "stdout",
          "text": [
            "total_tokens: 22721\n",
            "\n",
            "Claro, aquí tienes la transcripción:\n",
            "\n",
            "[00:00:00 a 00:00:02] Fundidora de acero Ajax.\n",
            "[00:00:03 a 00:00:14] Bart, quiero que estreches la mano de, ¿cómo se llama usted? Roscoe. Roscoe dirige esta fundidora y nos va a mostrar la planta para que veas a los hombres más rudos del país haciendo lo que saben hacer mejor.\n",
            "[00:00:15 a 00:00:16] ¿Y para qué quiero ver eso?\n",
            "[00:00:17 a 00:00:18] Me lo agradecerás en tu noche de boda.\n",
            "[00:00:25 a 00:00:29] Oigan, atención. Quiero que saluden a mis amigos los Simpson.\n",
            "[00:00:30 a 00:00:31] ¡Hola, Simpson!\n",
            "[00:00:32 a 00:00:35] ¡Oh! Ahora resulta que todos son locos.\n",
            "[00:00:36 a 00:00:38] ¡Ay, quédate quieto! Tienes una chispa en el cabello.\n",
            "[00:00:38 a 00:00:39] ¡Quítame la, quítame la!\n",
            "[00:00:42 a 00:00:44] Aquí viene lo bueno, jóvenes.\n",
            "[00:00:45 a 00:00:46] Papá, ¿por qué me traes a una fundidora gay?\n",
            "[00:00:47 a 00:00:50] ¡Ay, no sé! Eso es una pesadilla.\n",
            "[00:00:51 a 00:00:52] ¡Todos están enfermos!\n",
            "[00:00:53 a 00:00:54] Sí, y no es gripe, gordito.\n",
            "[00:00:54 a 00:00:59] ¡Ay, mi hijo! No tiene salida, el mundo se volvió gay.\n",
            "[00:01:00 a 00:01:01] ¡Oh, Dios mío! ¿Qué está pasando ahora?\n",
            "[00:01:02 a 00:01:04] ¡Trabajamos y nos divertimos!\n"
          ]
        }
      ]
    },
    {
      "cell_type": "code",
      "source": [
        "file = genai.upload_file('VetCare.pdf')\n",
        "print(f\"Uploaded file '{file.display_name}' as: {file.uri}\")\n",
        "print(file)\n"
      ],
      "metadata": {
        "colab": {
          "base_uri": "https://localhost:8080/",
          "height": 221
        },
        "id": "TbElEAKaVx5v",
        "outputId": "f07d549d-df84-4f41-d500-d3a9ea9c49c7"
      },
      "execution_count": null,
      "outputs": [
        {
          "output_type": "stream",
          "name": "stdout",
          "text": [
            "Uploaded file 'VetCare.pdf' as: https://generativelanguage.googleapis.com/v1beta/files/t5xw2h7vgb6d\n",
            "genai.File({\n",
            "    'name': 'files/t5xw2h7vgb6d',\n",
            "    'display_name': 'VetCare.pdf',\n",
            "    'mime_type': 'application/pdf',\n",
            "    'sha256_hash': 'YTkzMWM3ZWQ3ZjcxNTllMmNiZmE5MTA1MzQ0ZjVmYjFlYTZhN2RkMjg1MDU4MmRlOWI1MTRlOGJhYjY4YTE3Yw==',\n",
            "    'size_bytes': '292225',\n",
            "    'state': 'ACTIVE',\n",
            "    'uri': 'https://generativelanguage.googleapis.com/v1beta/files/t5xw2h7vgb6d',\n",
            "    'create_time': '2024-12-07T18:19:54.817949Z',\n",
            "    'expiration_time': '2024-12-09T18:19:54.743440577Z',\n",
            "    'update_time': '2024-12-07T18:19:54.817949Z'})\n"
          ]
        }
      ]
    },
    {
      "cell_type": "code",
      "source": [
        "prompt = [file, 'Haga un resumen del documento']\n",
        "resp = model.generate_content(prompt)\n",
        "print(model.count_tokens(prompt))\n",
        "print(resp.text)"
      ],
      "metadata": {
        "colab": {
          "base_uri": "https://localhost:8080/",
          "height": 326
        },
        "id": "Zz-DeJBHWCDD",
        "outputId": "5e52cb1f-41d7-490a-87eb-0379028775c4"
      },
      "execution_count": null,
      "outputs": [
        {
          "output_type": "stream",
          "name": "stdout",
          "text": [
            "total_tokens: 19074\n",
            "\n",
            "Este documento es un avance de un trabajo de investigación realizado por cuatro estudiantes del Instituto Tecnológico de Hermosillo para la materia de Taller de Investigación 1 (S7A).  El trabajo se centra en el desarrollo de un sistema de telemedicina y servicios veterinarios móviles para mejorar el acceso a la atención veterinaria en áreas urbanas.\n",
            "\n",
            "El documento aborda los siguientes puntos:\n",
            "\n",
            "* **Antecedentes:** Se contextualiza la necesidad de soluciones tecnológicas en la atención veterinaria, destacando el crecimiento de la telemedicina y los servicios móviles en el sector.\n",
            "* **Planteamiento del problema:** Se describe la dificultad de acceso a la atención veterinaria oportuna en áreas urbanas debido a la movilidad limitada de los dueños de mascotas. Se analizan las consecuencias y causas de este problema.  Se formula una pregunta de investigación central: ¿Cómo puede un modelo de telemedicina veterinaria y servicios móviles mejorar el acceso a la atención veterinaria en áreas urbanas donde los propietarios no tienen la capacidad de trasladar a sus mascotas a las clínicas?\n",
            "* **Objetivos:** Se define un objetivo general y objetivos específicos para el desarrollo e implementación del sistema propuesto.  Se establecen metas cuantificables para evaluar el éxito del proyecto.\n",
            "* **Marco teórico:** Se revisa la literatura sobre telemedicina veterinaria, principios científicos fundamentales, logística de servicios móviles, plataformas de gestión de citas, herramientas de bosquejo, principios de diseño de interfaces de usuario, y normativas ISO.\n",
            "* **Presupuesto:** Se detalla el presupuesto necesario, incluyendo equipos, materiales, software, recursos humanos, publicidad y marketing, e insumos médicos.\n",
            "* **Metodología:** Se propone el uso de la metodología Ágil, combinada con otros enfoques según sea necesario, para el desarrollo iterativo del sistema.\n",
            "* **Metodología de investigación:** Se describe el método de investigación, incluyendo la determinación del universo y obtención de la muestra, el tipo de estudio, los instrumentos de recolección de datos, el plan de recolección y análisis de datos, y el plan de representación gráfica de los resultados.\n",
            "* **Fuentes consultadas:** Se lista una amplia variedad de fuentes académicas utilizadas en el desarrollo del trabajo.\n",
            "\n",
            "\n",
            "En resumen, el documento presenta un plan completo para el desarrollo de un sistema innovador que busca mejorar el acceso y la calidad de la atención veterinaria en entornos urbanos, considerando aspectos técnicos, económicos, sociales y ambientales.\n"
          ]
        }
      ]
    },
    {
      "cell_type": "code",
      "source": [
        "#Generacion de conversacion\n",
        "model = genai.GenerativeModel(\n",
        "  model_name=\"gemini-1.5-flash\",\n",
        "  generation_config=generation_config,\n",
        "  system_instruction=\"Usted es un experto en computadoras y en programacion python y solo python. Si le preguntan de otro topico responda que no sabe de eso\", #rol que toma el LLM\n",
        ")\n",
        "\n",
        "chat = model.start_chat(history=[])\n",
        "\n",
        "prompt_user = \"In one sentence, explain how a computer works to a young child\"\n",
        "print(f'user: {prompt_user}')\n",
        "\n",
        "response = chat.send_message(prompt_user, stream=True)\n",
        "\n",
        "print(\"LLM: \")\n",
        "\n",
        "for chunk in response:\n",
        "  print(chunk.text)\n",
        "\n",
        "prompt_user = \"Okay, how about a more detailed explanation to a high schooler?\"\n",
        "print(f'user: {prompt_user}')\n",
        "\n",
        "response = chat.send_message(prompt_user, stream=True)\n",
        "\n",
        "print(\"LLM: \")\n",
        "\n",
        "for chunk in response:\n",
        "  print(chunk.text)\n",
        "\n",
        "prompt_user = \"Como puedo preparar unos chilaquiles comida mexicana\"\n",
        "print(f'user: {prompt_user}')\n",
        "\n",
        "response = chat.send_message(prompt_user, stream=True)\n",
        "\n",
        "print(\"LLM: \")\n",
        "\n",
        "for chunk in response:\n",
        "  print(chunk.text)\n",
        "\n",
        "\n",
        "for message in chat.history:\n",
        "  print(f'**{message.role}**: {message.parts[0].text}')"
      ],
      "metadata": {
        "colab": {
          "base_uri": "https://localhost:8080/",
          "height": 530
        },
        "id": "b2dlkAC-W_Ao",
        "outputId": "4bf495e1-bc31-43e9-aca5-5f73ca955f40"
      },
      "execution_count": null,
      "outputs": [
        {
          "output_type": "stream",
          "name": "stdout",
          "text": [
            "user: In one sentence, explain how a computer works to a young child\n",
            "LLM: \n",
            "A\n",
            " computer follows instructions, like a recipe, to do things with numbers and pictures!\n",
            "\n",
            "\n",
            "user: Okay, how about a more detailed explanation to a high schooler?\n",
            "LLM: \n",
            "A\n",
            " computer works by executing a sequence of instructions, called a program, written in a\n",
            " language it understands.  These instructions manipulate binary data (0s and 1\n",
            "s) representing information, performing calculations, moving data, and controlling hardware components like the screen and storage devices.  The central processing unit (CPU) fetches\n",
            ", decodes, and executes these instructions, interacting with memory to store and retrieve data, ultimately producing the results we see and interact with.\n",
            "\n",
            "user: Como puedo preparar unos chilaquiles comida mexicana\n",
            "LLM: \n",
            "Lo\n",
            " siento, no tengo información sobre recetas de cocina.  No puedo ayudarte con la\n",
            " preparación de chilaquiles.\n",
            "\n",
            "**user**: In one sentence, explain how a computer works to a young child\n",
            "**model**: A computer follows instructions, like a recipe, to do things with numbers and pictures!\n",
            "\n",
            "**user**: Okay, how about a more detailed explanation to a high schooler?\n",
            "**model**: A computer works by executing a sequence of instructions, called a program, written in a language it understands.  These instructions manipulate binary data (0s and 1s) representing information, performing calculations, moving data, and controlling hardware components like the screen and storage devices.  The central processing unit (CPU) fetches, decodes, and executes these instructions, interacting with memory to store and retrieve data, ultimately producing the results we see and interact with.\n",
            "\n",
            "**user**: Como puedo preparar unos chilaquiles comida mexicana\n",
            "**model**: Lo siento, no tengo información sobre recetas de cocina.  No puedo ayudarte con la preparación de chilaquiles.\n",
            "\n"
          ]
        }
      ]
    },
    {
      "cell_type": "code",
      "source": [
        "#Embedding\n",
        "contents= [\n",
        "    \"What is a hackaton?\",\n",
        "    \"Software developers should do a program for solving a problem\",\n",
        "    \"I'm really into playing soccer\"\n",
        "]\n",
        "\n",
        "result = genai.embed_content(\n",
        "    model=\"models/embedding-001\",\n",
        "    content=contents,\n",
        "    task_type=\"retrieval_document\",\n",
        "    title=\"Embedding of lists of strings\"\n",
        ")\n",
        "\n",
        "embeddings = result['embedding']\n",
        "\n",
        "print(embeddings[0])\n",
        "\n",
        "for embedding in embeddings:\n",
        "  print(str(embedding)[:50], '... TRIMMED ...')"
      ],
      "metadata": {
        "colab": {
          "base_uri": "https://localhost:8080/",
          "height": 105
        },
        "id": "v3SeJHQUeP7w",
        "outputId": "081507e7-5fe6-4edc-aa3f-8db6eb6921e5"
      },
      "execution_count": null,
      "outputs": [
        {
          "output_type": "stream",
          "name": "stdout",
          "text": [
            "[0.017316792, 0.0103003485, -0.045596916, -0.021085875, 0.038192887, -0.015094289, 0.051052902, 0.009514285, 0.034776855, 0.03898582, 0.010030842, 0.0035177553, -0.036411278, -0.037064727, 0.014925014, -0.03322962, 0.04072018, 0.0015268677, -0.0084649315, -0.036072526, 0.007380124, -0.0056147417, 0.024649147, -0.0046550883, 0.005067164, -0.02320852, 0.049038805, -0.01389309, -0.0053420654, 0.036664505, 0.0030057034, -0.01634835, -0.03378668, -7.816507e-05, 0.017000334, -0.02259653, 0.007998606, -0.005559725, -0.0055793757, 0.044512812, 0.026149612, -0.06603605, -0.03470237, 0.0133543145, 0.0071044317, -0.016192801, 0.019950986, -0.00958716, 0.030981377, -0.10414084, 0.05345495, 0.014187535, 0.09916787, -0.027104275, -0.004891321, -0.044227403, 0.035701133, -0.008694983, -0.026916899, -0.042703968, 0.021948023, -0.03358244, -0.0011585905, 0.06366517, -0.022500833, -0.082056016, -0.06376074, 0.049385548, 0.045794796, 0.029387897, -0.011871136, -0.045247935, -0.012873488, -0.071579486, -0.04445037, -0.10173668, 0.03843813, 0.04586348, -0.014718366, -0.01837216, -0.028952023, 0.004815138, -0.019177139, -0.028043445, -0.056484226, 0.058492944, -0.07879703, 0.03210597, -0.021556484, 0.0651214, -0.022676002, 0.062900096, 0.0143202925, -0.018584633, -0.014126475, 0.04431773, -0.02898868, -0.022049055, -0.017885447, 0.010068967, 0.00620739, -0.0032744866, -0.035205737, 0.037239246, 0.027534347, 0.00062843517, 0.008626593, 0.11520085, -0.008130894, 0.005030235, -0.030157706, -0.07841562, -0.03853592, -0.049440626, 0.008945107, 0.023469614, 0.027531402, 0.006240027, 0.032756533, -0.0014968031, 0.006477073, 0.020213729, 0.07749705, 0.018665267, 0.0024642302, 0.033747792, -0.005958704, 0.02997636, 0.03648722, 0.04976933, -0.019697892, -0.037330817, 0.044962723, 0.006768249, 0.006061715, 0.016930232, 0.026870387, 0.03323442, 0.04127369, 0.02428798, -0.0072809863, 0.015623427, 0.025662297, 0.069453515, -0.015937474, 0.028729687, -0.04110587, -0.0034363342, 0.02200888, -0.042445816, -0.025470551, 0.031538542, -0.11526003, -0.01294328, 0.026252363, -0.036588408, 0.009106549, 0.061516408, -0.008338462, -0.027360829, 0.054159276, 0.0010138148, -0.013200265, 0.030506786, 0.023864057, -0.051719755, -0.0252626, 0.011160443, 0.0062376275, -0.018587435, -0.0024568136, -0.0020295966, -0.054457776, -0.012688001, -0.039790742, -0.075398244, -0.013574835, -0.0113853095, -0.017479733, 0.036848996, -0.003106413, -0.0738838, 0.0013364839, 0.03416836, 0.022615835, -0.017089393, 0.0778786, 0.0037564654, -0.046087567, 0.032355167, -0.03254335, -0.018642964, -0.038202766, -0.027755119, -0.029482458, -0.0098672025, 0.015161096, -0.010281283, 0.04642236, -0.022328766, -0.02538888, 0.068741694, 0.028391328, -0.014759623, -0.01212511, -8.367916e-05, 0.081011005, -0.045399114, -0.05336467, 0.071349084, -0.0016508125, 0.017933901, 0.03818353, 0.0024312676, 0.054748833, -0.019069, 0.01735051, 0.0044558486, 0.044874556, -0.0006042418, -0.005206294, 0.010048868, -0.004942873, 0.015974926, 0.052590925, 0.0049912985, -0.008643201, 0.021761429, -0.023246497, 0.0035905777, -0.010567869, 0.07272257, 0.0569055, -0.052457348, 0.030995643, -0.033459835, 0.0036607673, 0.02263087, -0.0024387888, -0.020602511, -0.053546593, 0.008121957, 0.003091844, -0.0050820066, -0.07346587, -0.022366066, -0.0121334335, 0.055148233, 0.0036540232, 0.030164346, -0.0053048693, -0.021240655, 0.017772034, 0.020905143, -0.027162662, 0.011061455, -0.012994369, -0.009329303, -0.07311745, 0.036649223, 0.046579484, 0.04044297, 0.016422087, -0.021460801, 0.012015082, -0.022428583, 0.010928827, -0.038067337, -0.001853431, -0.002979481, 0.02784376, -0.020307748, 0.029510785, -0.011978389, -0.014646271, 0.00868866, -0.042409696, 0.0055385297, -0.010670129, -0.004109704, 0.017687155, 0.0086484, 0.04709995, 0.00951191, 0.0051881764, 0.0037679968, -0.0040708035, -0.023262165, 0.016523987, -0.06185699, -0.054706134, -0.06366565, -0.036628205, -0.048281502, -0.02960152, 0.03428497, -0.052067243, 0.05032864, -0.034311164, -0.0075348374, -0.01454575, -0.031762436, -0.01698165, -0.037394315, 0.00473718, 0.046678655, -0.016793402, -0.021102168, 0.037668217, 0.033098344, 0.03321582, 0.0118126, -0.03012721, -0.01279514, 0.029424151, -0.0024679468, -0.05205011, 0.0031507052, -0.027399966, 0.06314686, -0.019917991, 0.051336076, -0.0008724364, -0.013077456, -0.035461355, 0.0071710567, -0.013083044, 0.021447763, 0.00019687686, 0.028180586, -0.012446056, -0.015793068, -0.02351582, 0.02425977, -0.029517654, 0.015331702, -0.08750146, 0.026058963, -0.009625997, -0.02470786, 0.050295506, 0.05127433, -0.049366795, -0.015640298, -0.0015057147, -0.0488632, -0.017316252, -0.035655253, 0.096258484, 0.05669486, 0.029881695, 0.046378814, -0.0237723, -0.006152788, 0.037467662, -0.06280556, 0.03052037, -0.013752096, 0.04345596, -0.014732266, -0.037490617, 0.009956649, -0.020035755, -0.012573242, -0.023370275, 0.013023529, -0.049353465, 0.03116512, -0.013421706, 0.0053664595, 0.05324476, -0.008345425, 0.07029455, -0.0075266515, -0.0029432273, -0.024682587, -0.0124417525, -0.029917778, 0.024851056, 0.011835127, -0.022241898, -0.019726822, 0.04524381, 0.034120794, -0.008584151, -0.02370024, 0.044680387, 0.038434956, 0.011010634, 0.009426594, -0.015209594, -0.0140161645, 0.067271456, -0.0034019726, 0.01703787, -0.01496369, 0.040875427, -0.0010885122, -0.0058207037, -0.004322432, -0.0146439085, -0.030600438, -0.06519392, 0.0030455138, -0.0154634295, 0.015181284, -0.041584354, -0.012924611, -0.0068000695, 0.015951624, 0.027293533, 0.03632378, 0.0073324624, -0.08367035, -0.08251808, -0.035927225, 0.010282884, -0.042517766, -0.0051774033, 0.038511585, -0.030962942, -0.017109863, 0.024288915, 0.0024067354, -0.024432518, -0.038926132, 0.010693047, -0.045497682, 0.0075945244, 0.016762847, 0.065434515, 0.0039462927, 0.012959738, -0.009410255, -0.010218752, -0.018149376, 0.014047687, 0.030358147, 0.0013718202, -0.010553857, -0.009073134, 0.0007812915, -0.0097557735, -0.011257849, -0.032268293, -0.0049544484, -0.0102756005, -0.01706414, 0.008095077, -0.10547079, 0.042019863, -0.058349792, -0.0023670713, -0.045151833, -0.06923086, -0.041247327, -0.008424763, 0.094909415, 0.018216573, 0.010785195, -0.025469335, -0.04949804, -0.035786606, -0.048368752, 0.036590416, -0.0019508539, 0.0073734852, -0.03365296, 0.016218983, 0.04129341, -0.009447356, 0.03136478, -0.030759364, 0.013789285, -0.04089409, -0.029960236, -0.079647966, 0.017362962, -0.037115257, -0.036299374, -0.013966623, 0.05173101, 0.050156955, -0.00867242, -0.04612684, 0.0014994713, 0.012319983, -0.01757573, 0.014196847, 0.046224494, 0.006936462, -0.041065097, -0.0024944684, -0.048585374, -0.015176909, -0.026283596, -0.05241467, 0.044709463, 0.0017830745, 0.009751119, -0.0024039517, -0.030619387, -0.02691866, -0.042607628, 0.06855679, -0.10121954, 0.037725173, 0.034769714, -0.03388585, -0.037763204, -0.03690753, 0.048017494, -0.02354532, -0.0010350997, 0.061164178, -0.009001216, -0.035141382, 0.024118798, -0.00057601865, 0.021644525, 0.095733725, -0.018744327, -0.06722275, -0.036822733, 0.01770291, -0.027559208, 0.006127521, 0.0063137016, -0.04265203, 0.010266314, -0.022387825, 0.061632257, -0.08245458, -0.043896228, 0.020447586, -0.04408377, -0.017236972, 0.023810096, 0.03601965, 0.008555406, 0.035017934, -0.044373315, 0.013870814, 0.014554876, -0.011704033, -0.016486667, 0.018059112, -0.06407298, 0.05848647, -0.013913449, -0.031497374, 0.04202654, 0.010079266, -0.055988446, 0.0014754832, 0.004444765, -0.015981728, 0.046749856, -0.01757774, -0.033384472, -0.021514468, -0.01313992, -0.045618445, 0.039585207, 0.010805446, 0.0033064608, -0.030397175, 0.00036210532, 0.10980761, -0.009609283, 0.016870812, 0.0012777188, 0.036006764, 0.042329725, 0.0015286723, 0.010961313, -0.054669674, -0.02220648, -0.009342619, 0.006324648, 0.064445026, -0.0052461387, 0.011668096, 0.045119118, 0.015049383, -0.034099847, 0.058851615, 0.04108038, 0.041317113, 0.013283582, -0.04358308, 0.07064658, 0.009888271, -0.009982808, 0.002756346, 0.015854467, -0.00022868911, -0.0061409296, -0.07005331, -0.030254735, 0.023132758, -0.03151312, 0.107957, -0.0047238814, 0.033040725, 0.06978356, 0.014086353, -0.046372157, 0.0047868793, 0.0054107155, -0.08483502, -0.049133185, -0.0038027582, -0.025758706, 0.02550235, -0.04505064, 0.06811116, 0.0058442126, -0.032363, -0.030766929, -0.0151793705, 0.003937199, 0.0037052766, 0.022311402, -0.0101956, -0.04936698, -0.04405835, 0.010357312, 0.054064523, 0.017796582, 0.060974356, 0.009611727, -0.0023788025, -0.009615873, -0.036759753, 0.023400486, -0.055498168, -0.019455966, 0.02130058, 0.05333004, -0.13401379, 0.016530214, -0.02359156, -0.04677301, 0.010683911, 0.10064364, 0.015054432, -0.08101022, -0.007854532, 0.029074278, -0.021556485, 2.9651872e-05, 0.02246467, 0.020749426, -0.00031661693, 0.0337211, -0.025170716, -0.07126786, -0.032680135, -0.001969606, -0.001166187, -0.0017391236, 0.000776186, -0.015859496, -0.015772777, -0.040300388, -0.013384758, -0.058412563, -0.08143437, 0.026502637, -0.033669837, 0.07131659, 0.022401985, -0.024302535, 0.013690136, 0.011985913, -0.03414542, 0.042536117, -0.0052584447, 0.02035284, 0.0046735927, -0.011453021, -0.035467595, 0.011340563, -0.034187354, 0.082254305, 0.027374143, -0.0007761599, -0.02020452, -0.029042425, -0.027912976, -0.024219822, 0.026631672, 0.0034555276, 0.08024383, -0.01111406, -0.023059525, 0.015941665, -0.0033656, -0.0070686685, 0.03972734, 0.0028315887, -0.022851102, 0.0038135974, 0.010940132, 0.017199457, -0.0039989743, -0.010328481, 0.029823499, 0.038730603, 0.047106635, -0.04442513, -0.009321266, 0.017439025, 0.028906086, -0.057720788, 0.02651404, 0.029025616, -0.0644366, 0.07675101, 0.039492577, 0.045131158, -0.019764973, -0.034168985, -0.080204606, 0.03351493, -0.06785289, -0.01015761, -0.03387154, -0.008234628, 0.06936555, 0.0002936228, -0.0371802, 0.0049431436, -0.03279818, 0.042543806, 0.01941561, 0.029000372, -0.0038103827, -0.08965095, -0.04253887, 0.008170971, 0.017966634, 0.05357466, -0.014764004, -0.030686326, 0.005911767, -0.03323158, -0.016551256, -0.073029354, -0.061314553, -0.06935806, -0.0031937077, 0.012572694, 0.039341126, -0.012954977, 0.0069115898, -0.03411286, -0.039907724, -0.017711977, 0.0044324156, 0.011929941, 0.007521982, 0.02637415, 0.02974177, -0.008304705, 0.004942373, 0.02849249]\n",
            "[0.017316792, 0.0103003485, -0.045596916, -0.02108 ... TRIMMED ...\n",
            "[0.0032189474, 0.004552255, -0.018661732, 0.001138 ... TRIMMED ...\n",
            "[0.012892678, 0.034024183, 0.010095581, -0.0146146 ... TRIMMED ...\n"
          ]
        }
      ]
    }
  ]
}